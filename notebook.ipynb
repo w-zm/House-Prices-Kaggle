{
  "cells": [
    {
      "metadata": {
        "_cell_guid": "e81ee64d-e474-4662-9036-ce23df615199",
        "_uuid": "b6269c0e8f417f82daf093dda8fa0da6d2c57d86"
      },
      "cell_type": "markdown",
      "source": "# Introduction\n**This will be your workspace for Kaggle's Machine Learning education track.**\n\nYou will build and continually improve a model to predict housing prices as you work through each tutorial.  Fork this notebook and write your code in it.\n\nThe data from the tutorial, the Melbourne data, is not available in this workspace.  You will need to translate the concepts to work with the data in this notebook, the Iowa data.\n\nCome to the [Learn Discussion](https://www.kaggle.com/learn-forum) forum for any questions or comments. \n\n# Write Your Code Below\n\n"
    },
    {
      "metadata": {
        "_cell_guid": "86b26423-563a-4fa1-a595-89e25ff93089",
        "_uuid": "1c728098629e1301643443b1341556a15c089b2b",
        "collapsed": true,
        "trusted": false
      },
      "cell_type": "code",
      "source": "import pandas as pd\n\nmain_file_path = '../input/train.csv'\ndata = pd.read_csv(main_file_path)\nprint(data.describe())\n# print(data)",
      "execution_count": null,
      "outputs": []
    },
    {
      "metadata": {
        "_cell_guid": "46138e23-08c2-42e7-a002-4dc277bc6168",
        "_uuid": "6a89abab68ce5aea124ff753527b4de1fa782af2",
        "collapsed": true,
        "trusted": false
      },
      "cell_type": "code",
      "source": "print(data.columns)",
      "execution_count": null,
      "outputs": []
    },
    {
      "metadata": {
        "_cell_guid": "23d6ec64-4577-4410-8897-8eb79ad16ccb",
        "_uuid": "916c0f4ffe30b5a44f9d0888bc02a0e4926e07a8",
        "collapsed": true,
        "trusted": false
      },
      "cell_type": "code",
      "source": "data_price_copy = data.SalePrice\nprint(data.SalePrice.head())\n# data_price_copy[0] = 208500\n# print(data.SalePrice.head())",
      "execution_count": null,
      "outputs": []
    },
    {
      "metadata": {
        "_cell_guid": "40bb7f10-5224-4ca3-8ac1-10be93ef3bd0",
        "_uuid": "7fdb6e0ab7fc0f93c5403f6be7371cacbab3fe71",
        "collapsed": true,
        "trusted": false
      },
      "cell_type": "code",
      "source": "from sklearn.tree import DecisionTreeRegressor\n\ny = data.SalePrice\nfive_columns = data[['LotArea', 'YearBuilt', '1stFlrSF', '2ndFlrSF', 'FullBath', 'BedroomAbvGr', 'TotRmsAbvGrd']]\nX = five_columns\n\nhouse_price_model = DecisionTreeRegressor()\n\nhouse_price_model.fit(X, y)\n\nprint('make some predictions:')\n\nprint(X.head())\nprint(house_price_model.predict(X.head()))",
      "execution_count": null,
      "outputs": []
    },
    {
      "metadata": {
        "_cell_guid": "89a15010-cac7-43fd-9599-75dfa267368f",
        "_uuid": "e2106c2563eb2d8ec39267858f661feef44676e6",
        "collapsed": true,
        "trusted": false
      },
      "cell_type": "code",
      "source": "print(y)",
      "execution_count": null,
      "outputs": []
    },
    {
      "metadata": {
        "_cell_guid": "eb35c5a3-3e9b-4916-bc0f-3dbb2de73a76",
        "_uuid": "fa28c341b19f8867e34c0cce9dedb46a431711fc",
        "collapsed": true,
        "trusted": false
      },
      "cell_type": "code",
      "source": "from sklearn.metrics import mean_absolute_error\n\npredict_house_price = house_price_model.predict(X)\nmean_absolute_error(y, predict_house_price)",
      "execution_count": null,
      "outputs": []
    },
    {
      "metadata": {
        "_cell_guid": "0377b941-08fc-4bb0-b3c1-8e07d2761a85",
        "_uuid": "401d281d9a2e6b77e00d11ffff74fa8acad17c4e",
        "collapsed": true,
        "trusted": false
      },
      "cell_type": "code",
      "source": "from sklearn.model_selection import train_test_split\n\ntrain_X, val_X, train_y, val_y = train_test_split(X, y, random_state=0)\n\nhouse_price_model2 = DecisionTreeRegressor()\nhouse_price_model2.fit(train_X, train_y)\n\npredict_house_price2 = house_price_model2.predict(val_X)\nmean_absolute_error(val_y, predict_house_price2)",
      "execution_count": null,
      "outputs": []
    },
    {
      "metadata": {
        "_cell_guid": "53bdb5ca-b5f5-4ce9-a2d0-f8e10baa07a0",
        "_uuid": "db2e735b5c7544a1f2a0ec10b1f9563fcd3cc759",
        "collapsed": true,
        "trusted": false
      },
      "cell_type": "code",
      "source": "def get_mae(max_leaf_nodes, predictors_train, predictors_val, targ_train, targ_val):\n    model = DecisionTreeRegressor(max_leaf_nodes=max_leaf_nodes, random_state=0)\n    model.fit(predictors_train, targ_train)\n    pred_val = model.predict(predictors_val)\n    mae = mean_absolute_error(targ_val, pred_val)\n    return mae",
      "execution_count": null,
      "outputs": []
    },
    {
      "metadata": {
        "_cell_guid": "437815b4-8b3a-46f8-8c6c-26439451e0e8",
        "_uuid": "42d30f45504d7f9a4f7841086bc00a727abec67a",
        "collapsed": true,
        "trusted": false
      },
      "cell_type": "code",
      "source": "for max_leaf_nodes in [5, 50, 500, 5000]:\n    my_mae = get_mae(max_leaf_nodes, train_X, val_X, train_y, val_y)\n    print(\"Max leaf nodes are %d:       Mean absolute error:%d\" %(max_leaf_nodes, my_mae))",
      "execution_count": null,
      "outputs": []
    },
    {
      "metadata": {
        "_cell_guid": "fe272262-5580-4a74-b619-6646b0b31b5c",
        "_uuid": "5bead5a4907aa4139b7545910f13c3f03a525fce",
        "collapsed": true,
        "trusted": false
      },
      "cell_type": "code",
      "source": "from sklearn.ensemble import RandomForestRegressor\n\nforest_model = RandomForestRegressor()\nforest_model.fit(train_X, train_y)\npreds_y = forest_model.predict(val_X)\nmae = mean_absolute_error(val_y, preds_y)\nprint(mae)",
      "execution_count": null,
      "outputs": []
    },
    {
      "metadata": {
        "_cell_guid": "fa3d7a6c-9e91-4b2b-8ee6-ac77c30063a2",
        "_uuid": "e35f794e94c76cb7ad75ffd5d58d2c841d75cdaf",
        "collapsed": true,
        "trusted": false
      },
      "cell_type": "code",
      "source": "forest_model.fit(X, y)\n\n# 读取测试文件\ntest = pd.read_csv('../input/test.csv')\ntest_X = test[['LotArea', 'YearBuilt', '1stFlrSF', '2ndFlrSF', 'FullBath', 'BedroomAbvGr', 'TotRmsAbvGrd']]\n\ntest_y = forest_model.predict(test_X)\nmy_submission = pd.DataFrame({'Id': test.Id, 'SalePrice': test_y})\n\n# 生成提交文件\nmy_submission.to_csv('submission.csv', index = False)",
      "execution_count": null,
      "outputs": []
    },
    {
      "metadata": {
        "_cell_guid": "9504c23a-b1a9-4253-a60e-5a5577f14818",
        "_uuid": "18c3efa0dd61ca4caa66c1ff01d52cd9c00c23ae",
        "collapsed": true,
        "trusted": false
      },
      "cell_type": "code",
      "source": "# ----------------------------------------------------\n# Level2\n# ----------------------------------------------------",
      "execution_count": null,
      "outputs": []
    },
    {
      "metadata": {
        "_cell_guid": "9b41e9a5-b834-4b90-95dc-5d3a4af8793b",
        "_uuid": "963ab5a5c7db0fa1e4dfa49fa8c37cfcefd67a0a",
        "collapsed": true,
        "trusted": false
      },
      "cell_type": "code",
      "source": "# import \nimport pandas as pd\nimport numpy as np\nfrom sklearn.ensemble import RandomForestRegressor\nfrom sklearn.metrics import mean_absolute_error\nfrom sklearn.model_selection import train_test_split\nfrom sklearn.preprocessing import Imputer",
      "execution_count": null,
      "outputs": []
    },
    {
      "metadata": {
        "_cell_guid": "7e4b80f3-6802-478b-b551-88da4c40b1fa",
        "_uuid": "ee677ffcf57328c016df8b2507ab0b47f0615fb7",
        "scrolled": true,
        "collapsed": true,
        "trusted": false
      },
      "cell_type": "code",
      "source": "# 读取数据，只保留数值型\ntrain = pd.read_csv('../input/train.csv')\ntest_org = pd.read_csv('../input/test.csv')\n\ntrain_target = train.SalePrice\n\n# 去掉Id列\ntrain_predictors = train.drop(['SalePrice', 'Id'], axis=1).select_dtypes(exclude=['object'])\nprint(train_predictors.columns)\ntest = test_org[train_predictors.columns]\nprint(test.head())",
      "execution_count": null,
      "outputs": []
    },
    {
      "metadata": {
        "_cell_guid": "12ceb5f1-e9f1-4220-a951-9e1bdee9d1fd",
        "_uuid": "a95ee7d22825ff0c8ae6c4080836de8f45c78929",
        "collapsed": true,
        "trusted": false
      },
      "cell_type": "code",
      "source": "# find some columns with missing values in your dataset\ntrain_cols_with_miss = [col for col in train_predictors.columns if train_predictors[col].isnull().any()]\nprint(train_cols_with_miss)\ntest_cols_with_miss = [col for col in test if test[col].isnull().any()]\nprint(test_cols_with_miss)",
      "execution_count": null,
      "outputs": []
    },
    {
      "metadata": {
        "_cell_guid": "90243808-9735-4179-a580-d2e9547e5c15",
        "_uuid": "d98df11163435e82c3cf8b6411829fd2202012c2",
        "collapsed": true,
        "trusted": false
      },
      "cell_type": "code",
      "source": "# Use the Imputer class to impute missing values",
      "execution_count": null,
      "outputs": []
    },
    {
      "metadata": {
        "_cell_guid": "3946eea1-2856-45d6-a4c6-c640b7d9d1e4",
        "_uuid": "6fcd00452e259c87b29e0aa6aed1199e9015c25c",
        "collapsed": true,
        "trusted": false
      },
      "cell_type": "code",
      "source": "imputed_X_train_plus = train_predictors.copy()\nimputed_X_test_plus = test.copy()\n\nfor col in train_cols_with_miss:\n    imputed_X_train_plus[col + '_with_missing'] = imputed_X_train_plus[col].isnull()\n    imputed_X_test_plus[col + '_with_missing'] = imputed_X_test_plus[col].isnull()\n\n\nprint(imputed_X_train_plus.shape)\nprint(imputed_X_train_plus.columns)\n    \n# Imputer\nmy_imputer = Imputer()\nimputed_X_train = my_imputer.fit_transform(imputed_X_train_plus)\nimputed_X_test = my_imputer.transform(imputed_X_test_plus)\n\n# print(imputed_X_train)\n\n# print(imputed_X_test)\n\ndef get_mae(n_estimators, train_X, train_y, val_X, val_y):\n    model = train_model(n_estimators, train_X, train_y)\n    preds = get_preds(model, val_X)\n    mae = mean_absolute_error(val_y, preds)\n    return mae\n\ndef train_model(n_estimators, train_X, train_y):\n    model = RandomForestRegressor(n_estimators)\n    model.fit(train_X, train_y)\n    return model\n\ndef get_preds(model, val_X):\n    preds = model.predict(val_X)\n    return preds\n\nimputed_X_train = pd.DataFrame(imputed_X_train, columns=imputed_X_train_plus.columns)    \n\n# 添加非数值型特征\nsome_cols = ['MSZoning', 'Utilities', 'Condition1', 'BldgType', 'HouseStyle', 'MasVnrType', 'HeatingQC', 'CentralAir', 'KitchenQual', 'PoolQC', 'MiscFeature']\nimputed_X_train = pd.concat([imputed_X_train, pd.get_dummies(train[some_cols])], axis=1)\nprint(imputed_X_train.shape)\n# 从给出的数据集中，划分训练集和测试集，以确定最好的评估器的个数，最后再以总体数据作为训练集进行训练\ntrain_X, val_X, train_y, val_y = train_test_split(imputed_X_train, train_target, random_state=0)\n# print(val_y.isnull().sum())\n# train_X, val_X, train_y, val_y = train_test_split(X, y, random_state=0)\n\nfor n in [10, 15, 20, 25, 30, 35, 40, 45, 50]:\n    mae = get_mae(n, train_X, train_y, val_X, val_y)\n    print(\"n = %d: \\t\\tmae value:%d\" % (n, mae))\n\n# model = train_model(10, train_X, train_y)\n# preds = get_preds(model, val_X)\n# print(preds)\n# mae = mean_absolute_error(val_y, preds)\n",
      "execution_count": null,
      "outputs": []
    },
    {
      "metadata": {
        "_cell_guid": "44b401b3-907e-41c7-aeec-e4abb0faa3b9",
        "_uuid": "db2035ad69bef376ac276dfdb3cee414c20293c1",
        "collapsed": true,
        "trusted": false
      },
      "cell_type": "code",
      "source": "# sub_data = pd.read_csv('submission2.csv')\n# print(sub_data)",
      "execution_count": null,
      "outputs": []
    },
    {
      "metadata": {
        "_cell_guid": "3088c78e-672d-4164-82c9-e70dabefe0de",
        "_uuid": "c31604dbdc1c360bc6cb83c28c0d236399c2e61c",
        "collapsed": true,
        "trusted": false
      },
      "cell_type": "code",
      "source": "model = train_model(50, imputed_X_train, train_target)\nimputed_X_test = pd.DataFrame(imputed_X_test, columns=imputed_X_test_plus.columns)\n# print(type(pd.get_dummies(test_org[some_cols])))\ntrain_dummies, test_dummies = pd.get_dummies(train[some_cols]).align(pd.get_dummies(test_org[some_cols]), join='left', axis=1)\n# print(test_dummies[0].shape)\ntest_dummies.fillna(0, inplace=True)\nprint(test_dummies.isnull().head())\nimputed_X_test = pd.concat([imputed_X_test, test_dummies], axis=1)\n# imputed_X_test.fillna(0)\n# imputed_X_test = imputed_X_train.align(imputed_X_test, join='left', axis=1)\n# print(imputed_X_test.isnull())\npreds = model.predict(imputed_X_test)\n\n# my_submission = pd.DataFrame({'Id': test_org.Id, 'SalePrice': preds})\n# my_submission.to_csv('submission4.csv', index=False)",
      "execution_count": null,
      "outputs": []
    },
    {
      "metadata": {
        "_cell_guid": "c0e75552-4720-44da-b879-6309fdc42f25",
        "_uuid": "60e2157d6b19bd9ef8647a9a0905da6c01c4a5c3",
        "collapsed": true,
        "trusted": false
      },
      "cell_type": "code",
      "source": "###########################################\n# 添加非数值型特征 #\n###########################################",
      "execution_count": null,
      "outputs": []
    },
    {
      "metadata": {
        "_cell_guid": "d6c264ef-aaf2-439e-91f7-e45c7ecc3116",
        "_uuid": "10763e8ed927df598f576dd74251593e62a8feec",
        "collapsed": true,
        "trusted": false
      },
      "cell_type": "code",
      "source": "my_submission = pd.DataFrame({'Id': test_org.Id, 'SalePrice': preds})\nmy_submission.to_csv('submission4.csv', index=False)\n",
      "execution_count": null,
      "outputs": []
    },
    {
      "metadata": {
        "_cell_guid": "53089b3a-99be-43ee-9e60-95931984e00e",
        "_uuid": "377d9ca07ed76a843e6372d594c969549f1689fe",
        "collapsed": true,
        "trusted": false
      },
      "cell_type": "code",
      "source": "# train_dum = pd.get_dummies(train[some_cols])\n# print(list(train_dum.columns))\n# # test_dum = pd.get_dummies(test_org[some_cols])\n# # print(test_dum.shape)\n# # print(list(train_dum.columns) - list(test_dum.shape))\n# set1 = set(list(train_dum))\n# set2 = set(list(test_dum))\n# print(set1 & set2)",
      "execution_count": null,
      "outputs": []
    },
    {
      "metadata": {
        "_cell_guid": "f5096698-d61e-46fd-958b-8da049727f3e",
        "_uuid": "664c6b13378dd0ffeca606d399b125c7e083ffd5",
        "collapsed": true,
        "trusted": false
      },
      "cell_type": "code",
      "source": "###########################################\n# 使用XGBoost #\n###########################################",
      "execution_count": null,
      "outputs": []
    },
    {
      "metadata": {
        "_cell_guid": "a58918d0-6d03-42c1-8254-90236498e2e2",
        "_uuid": "a6b8c7e191dd3cd89a3a9e591065b0c4fc692415",
        "collapsed": true,
        "trusted": false
      },
      "cell_type": "code",
      "source": "import pandas as pd\nimport numpy as np\nfrom sklearn.model_selection import train_test_split\nfrom sklearn.preprocessing import Imputer\nfrom sklearn.metrics import mean_absolute_error\nfrom xgboost import XGBRegressor\n\ntrain_data = pd.read_csv('../input/train.csv')\ntest_org = pd.read_csv('../input/test.csv')\n\nfinal_test_data = test_org.drop(['Id'], axis=1)\ntrain_data.dropna(axis = 0, subset=['SalePrice'], inplace=True)\n\ny  = train_data.SalePrice\nX = train_data.drop(['SalePrice', 'Id'], axis=1).select_dtypes(exclude=['object'])\nfinal_test_data = final_test_data.select_dtypes(exclude=['object'])\n\n# object类型的列\ntrain_object = pd.get_dummies(train_data.select_dtypes(include=['object']))\ntest_object = pd.get_dummies(test_org.select_dtypes(include=['object']))\ntrain_object, test_object = train_object.align(test_object, join='left', axis=1)\n\n# 组合起来\nX = pd.concat([X, train_object], axis=1)\nfinal_test_data = pd.concat([final_test_data, test_object], axis=1)\nfinal_test_data.fillna(0, inplace=True)\nprint(final_test_data.head())\n\n# print(y.as_matrix())\n\ntrain_X, test_X, train_y, test_y = train_test_split(X.as_matrix(), y.as_matrix(), test_size=0.25)\n\nmy_imputer = Imputer()\n# train_X = my_imputer.fit_transform(train_X)\n# test_X = my_imputer.transform(test_X)\n# final_test_data = my_imputer.transform(final_test_data)\n\n# my_model = XGBRegressor()\n# my_model.fit(train_X, train_y, verbose=False)\n\nmy_model = XGBRegressor(n_estimators=1000, learning_rate=0.05)\n# my_model.fit(train_X, train_y, early_stopping_rounds=300, eval_set=[(test_X, test_y)], verbose=True)\n\nX = my_imputer.fit_transform(X)\nprint(final_test_data.shape)\nfinal_test_data = my_imputer.transform(final_test_data)\nmy_model.fit(X, y, verbose=True)",
      "execution_count": null,
      "outputs": []
    },
    {
      "metadata": {
        "_cell_guid": "3c6920e6-45a8-46cf-abd8-2bcfb67c0e3e",
        "_uuid": "09588f7526ff85a35880de1ca34306c10c465891",
        "collapsed": true,
        "trusted": false
      },
      "cell_type": "code",
      "source": "# predictions = my_model.predict(test_X)\n# print(\"mae: %d\" % (mean_absolute_error(predictions, test_y)))\n\npredictions = my_model.predict(final_test_data)\n\nsubmission = pd.DataFrame({'Id': test_org.Id, 'SalePrice': predictions})\nsubmission.to_csv('submission5.csv', index=False)",
      "execution_count": null,
      "outputs": []
    },
    {
      "metadata": {
        "_cell_guid": "e5f2dbfc-7aa8-4513-89fb-29ebe4028b5d",
        "_uuid": "17894ef6362ad2931c78cee3753002517874eba1",
        "collapsed": true,
        "trusted": false
      },
      "cell_type": "code",
      "source": "# 视图",
      "execution_count": null,
      "outputs": []
    },
    {
      "metadata": {
        "_cell_guid": "8ee9a61f-1cc4-4e4a-9fd8-12d4f81dfc8d",
        "_uuid": "7e214bdd5145f3bf7c887173126ec4333c70b099",
        "collapsed": true,
        "trusted": false
      },
      "cell_type": "code",
      "source": "import pandas as pd\nimport numpy as np\nfrom sklearn.ensemble.partial_dependence import partial_dependence, plot_partial_dependence\nfrom sklearn.metrics import mean_absolute_error\nfrom sklearn.model_selection import train_test_split\nfrom sklearn.preprocessing import Imputer\nfrom sklearn.ensemble import GradientBoostingRegressor\n# from xgboost import XGBRegressor",
      "execution_count": null,
      "outputs": []
    },
    {
      "metadata": {
        "_cell_guid": "a7bf0bfd-71ad-47da-9a65-bf402e18f45a",
        "_uuid": "70cb3385a247929cc2f0c65b5610a3b0edc0bdd4",
        "collapsed": true,
        "trusted": false
      },
      "cell_type": "code",
      "source": "train_org = pd.read_csv('../input/train.csv')\ntest_org = pd.read_csv('../input/test.csv')\n\nprint(train_org.shape)",
      "execution_count": null,
      "outputs": []
    },
    {
      "metadata": {
        "_cell_guid": "ce99793d-4e43-4595-b268-ef94afa55737",
        "_uuid": "c3ecaadd7ce76a084aa7415edeae0c1f171214be",
        "collapsed": true,
        "trusted": false
      },
      "cell_type": "code",
      "source": "train_org.select_dtypes(exclude=['object']).columns",
      "execution_count": null,
      "outputs": []
    },
    {
      "metadata": {
        "_cell_guid": "9d33a7ba-cbae-41f5-9065-bfa92d98f25e",
        "_uuid": "4cf54b324e1dc8577466937b0a17598eb97392d0",
        "collapsed": true,
        "trusted": false
      },
      "cell_type": "code",
      "source": "def get_some_data():\n    cols_to_use = ['MSSubClass', 'LotFrontage', 'OverallQual']\n    train_org = pd.read_csv('../input/train.csv')\n    y = train_org.SalePrice\n    X = train_org[cols_to_use]\n    my_imputer = Imputer()\n    X = my_imputer.fit_transform(X)\n    return X, y",
      "execution_count": null,
      "outputs": []
    },
    {
      "metadata": {
        "_cell_guid": "7c307869-9da8-46f0-afba-1d6303a24d98",
        "_uuid": "fdef95bd5b63c1a2d518ff8887a81e59d190e126",
        "collapsed": true,
        "trusted": false
      },
      "cell_type": "code",
      "source": "X, y = get_some_data()\n\nmy_model = GradientBoostingRegressor()\nmy_model.fit(X, y)\n\nmy_plots = plot_partial_dependence(my_model,\n                                   features=[0, 1, 2],\n                                   X=X,\n                                   feature_names=['MSSubClass', 'LotFrontage', 'OverallQual'],\n                                   grid_resolution=10)",
      "execution_count": null,
      "outputs": []
    },
    {
      "metadata": {
        "_cell_guid": "5ff8d5be-bb47-44ff-a35f-fd5bd6a75074",
        "_uuid": "a30683d0234d6a7f8482f5bef4794c60e780b9ec",
        "collapsed": true,
        "trusted": false
      },
      "cell_type": "code",
      "source": "## 分析",
      "execution_count": null,
      "outputs": []
    },
    {
      "metadata": {
        "_cell_guid": "198298df-2719-485d-99d9-cefb0d5bf0bc",
        "_uuid": "0dc8ec876306a23bf1312cc42d8687e1c1a55474",
        "collapsed": true,
        "trusted": false
      },
      "cell_type": "code",
      "source": "import pandas as pd\nimport numpy as np\nimport seaborn as sns\nimport matplotlib.pyplot as plt\nfrom scipy.stats import norm\nfrom sklearn.preprocessing import StandardScaler\nfrom scipy import stats\nimport warnings\nwarnings.filterwarnings('ignore')\n%matplotlib inline\n",
      "execution_count": null,
      "outputs": []
    },
    {
      "metadata": {
        "_cell_guid": "edaa75bc-28c0-4c9a-b1e5-a5495e56c9b5",
        "_uuid": "bc3715c474081bc5a8af77fbec5a337ab2712d6f",
        "collapsed": true,
        "trusted": false
      },
      "cell_type": "code",
      "source": "train_org = pd.read_csv('../input/train.csv')",
      "execution_count": null,
      "outputs": []
    },
    {
      "metadata": {
        "_cell_guid": "7b9b186f-8134-4c98-aee3-1cc014c3fbf8",
        "_uuid": "ce449f06620d5aef398c081df9083d6dd7d649c2",
        "trusted": false,
        "collapsed": true
      },
      "cell_type": "code",
      "source": "total = train_org.isnull().sum().sort_values(ascending=False)\ncount = train_org.isnull().count()\n# print(type(total))\n# print(train_org.count())\npercent = (train_org.isnull().sum()/train_org.isnull().count()).sort_values(ascending=False)\nmissing_data = pd.concat([total, percent], axis=1, keys=['Total', 'Percent'])\nmissing_data.head(20)",
      "execution_count": null,
      "outputs": []
    },
    {
      "metadata": {
        "_cell_guid": "8c1eb6df-67ee-46df-9477-97126be19549",
        "_uuid": "2864765a2f81acbebce5aa943c3b6e363969b508",
        "collapsed": true,
        "trusted": false
      },
      "cell_type": "code",
      "source": "# 从缺失值统计图，去掉超过15%的特征列， 所以去掉的特征列有：PoolQC, MiscFeature, Alley, Fence, FireplaceQu, LotFrontage",
      "execution_count": null,
      "outputs": []
    },
    {
      "metadata": {
        "_cell_guid": "269bd4cf-6bd5-46f3-9c0e-9e6d3416a4d1",
        "_uuid": "b3d01376d93a8b2cb581447a5645adf00b69a216",
        "trusted": false,
        "collapsed": true
      },
      "cell_type": "code",
      "source": "train_data = train_org.drop((missing_data[missing_data['Total'] > 1]).index, 1)\nprint(train_data.shape)\n# print(train_org.loc[train_data['Electrical'].isnull()])\ntrain_data = train_data.drop(train_org.loc[train_data['Electrical'].isnull()].index)\ntrain_data.isnull().sum().max()",
      "execution_count": null,
      "outputs": []
    },
    {
      "metadata": {
        "_cell_guid": "610ee027-afeb-49b0-9d9c-78bf25e241da",
        "_uuid": "bfa7a835e6302ca7079c5f34e98c160b1f0bc338",
        "trusted": false,
        "collapsed": true
      },
      "cell_type": "code",
      "source": "#standardizing data\nsaleprice_scaled = StandardScaler().fit_transform(train_org['SalePrice'][:,np.newaxis])\nprint(saleprice_scaled.shape)\nprint(saleprice_scaled[:,0])\nlow_range = saleprice_scaled[saleprice_scaled[:,0].argsort()][:10]\nhigh_range= saleprice_scaled[saleprice_scaled[:,0].argsort()][-10:]\nprint('outer range (low) of the distribution:')\nprint(low_range)\nprint('\\nouter range (high) of the distribution:')\nprint(high_range)",
      "execution_count": null,
      "outputs": []
    },
    {
      "metadata": {
        "_cell_guid": "8f741e28-09ea-430c-bf54-66d59459199a",
        "_uuid": "b0fb60988b09c2523ae9c9b63a8d45073e742c8a",
        "trusted": false,
        "collapsed": true
      },
      "cell_type": "code",
      "source": "train_data.sort_values(by = 'GrLivArea', ascending = False)[:2]",
      "execution_count": null,
      "outputs": []
    },
    {
      "metadata": {
        "_cell_guid": "5bfeb86e-5a5f-47da-8ea6-acb7717d10e6",
        "_uuid": "080573bf166a041bcf238fed49aeabcd51067900",
        "collapsed": true,
        "trusted": false
      },
      "cell_type": "code",
      "source": "\ntrain_data = train_data.drop(train_data[train_data['Id'] == 1299].index)\ntrain_data = train_data.drop(train_data[train_data['Id'] == 524].index)",
      "execution_count": null,
      "outputs": []
    },
    {
      "metadata": {
        "_cell_guid": "cb9b2b3d-002b-4c7b-9ab6-bffc6e3b3208",
        "_uuid": "0525180fb3d0a8e2a1f2a4bbe1b1b3bf8823b008",
        "trusted": false,
        "collapsed": true
      },
      "cell_type": "code",
      "source": "sns.distplot(train_data['SalePrice'], fit=norm)\nfig = plt.figure()\nres = stats.probplot(train_data['SalePrice'], plot=plt)",
      "execution_count": null,
      "outputs": []
    },
    {
      "metadata": {
        "_cell_guid": "2ea9c672-dfb9-4ce3-952e-e6231ea87233",
        "_uuid": "6b7df37e331148ab8205ba26bd7af25ff31e4355",
        "trusted": false,
        "collapsed": true
      },
      "cell_type": "code",
      "source": "train_data_log = train_data.copy()\ntrain_data_log['SalePrice'] = np.log(train_data_log['SalePrice'])\n\nsns.distplot(train_data_log['SalePrice'], fit=norm)\nfig = plt.figure()\nres = stats.probplot(train_data_log['SalePrice'], plot=plt)",
      "execution_count": null,
      "outputs": []
    },
    {
      "metadata": {
        "_cell_guid": "6af0ad68-fe84-4316-97f3-e8517be24373",
        "_uuid": "a90c29752ac2ee245e652cdf94127a5fab6e75dd",
        "collapsed": true,
        "trusted": false
      },
      "cell_type": "code",
      "source": "# 对'GrLivArea'进行同样的处理\ntrain_data_log['GrLivArea'] = np.log(train_data_log['GrLivArea'])",
      "execution_count": null,
      "outputs": []
    },
    {
      "metadata": {
        "_cell_guid": "fe7a27d7-9dcf-48af-b1bc-057ad03d136f",
        "_uuid": "62d13cbbf66c1e8c32472d34496ce894b59599b5",
        "collapsed": true,
        "trusted": false
      },
      "cell_type": "code",
      "source": "train_data_log['hasBsmt'] = pd.Series(len(train_data_log['TotalBsmtSF']), index=train_data_log.index)\ntrain_data_log['hasBsmt'] = 0\ntrain_data_log.loc[train_data_log['TotalBsmtSF']>0, 'hasBsmt'] = 1",
      "execution_count": null,
      "outputs": []
    },
    {
      "metadata": {
        "_cell_guid": "a8310019-94de-4951-af47-8397d298e3c9",
        "_uuid": "26e15ee05406696754df71ca548a3922ef79c570",
        "collapsed": true,
        "trusted": false
      },
      "cell_type": "code",
      "source": "# print(train_data_log.loc[train_data_log['hasBsmt']==1, 'TotalBsmtSF'].shape)\n# print(np.log(train_data_log['TotalBsmtSF']))\ntrain_data_log.loc[train_data_log['hasBsmt']==1, 'TotalBsmtSF'] = np.log(train_data_log['TotalBsmtSF'])",
      "execution_count": null,
      "outputs": []
    },
    {
      "metadata": {
        "_cell_guid": "ac110478-52e3-4ac5-921e-3cf5da3ab2d3",
        "_uuid": "2a422b1504a63c387d02aa78d2746873c5865f5f",
        "trusted": false,
        "collapsed": true
      },
      "cell_type": "code",
      "source": "sns.distplot(train_data_log[train_data_log['TotalBsmtSF']>0]['TotalBsmtSF'], fit=norm);\nfig = plt.figure()\nres = stats.probplot(train_data_log[train_data_log['TotalBsmtSF']>0]['TotalBsmtSF'], plot=plt)",
      "execution_count": null,
      "outputs": []
    },
    {
      "metadata": {
        "_cell_guid": "484c3859-f23e-4c3e-b4ed-6f9286805bb5",
        "_uuid": "2597b78aeca8fc46603edde9af591f5a2700e38a",
        "trusted": false,
        "collapsed": true
      },
      "cell_type": "code",
      "source": "from sklearn.model_selection import train_test_split\ntrain_data_log.dropna(axis = 0, subset=['SalePrice'], inplace=True)\ntrain_data_log_target = train_data_log.SalePrice\ntrain_data_log_feature = train_data_log.drop(['SalePrice', 'Id'], axis=1)\ntrain_X1, val_X1, train_y, val_y = train_test_split(train_data_log_feature, train_data_log_target, test_size=0.25)\n\ntrain_X = train_X1.select_dtypes(exclude=['object'])\nval_X = val_X1.select_dtypes(exclude=['object'])\n# val_X.fillna(0, inplace=True)\n\nfrom sklearn.preprocessing import Imputer\n# print(train_X.isin(['Normal']))\n\nmy_imputer = Imputer()\ntrain_data_imputer = my_imputer.fit_transform(train_X)\nval_data_imputer = my_imputer.transform(val_X)\n\ntrain_dum = pd.get_dummies(train_X1.select_dtypes(include=['object']))\nval_dum = pd.get_dummies(val_X1.select_dtypes(include=['object']))\ntrain_dum, val_dum = train_dum.align(val_dum, join='left', axis=1)\nval_dum.fillna(0, inplace=True)\n\ntrain_data_imputer = pd.DataFrame(train_data_imputer, columns=train_X.columns)\nval_data_imputer = pd.DataFrame(val_data_imputer, columns=val_X.columns)\nprint(type(train_data_imputer))\nprint(type(train_dum))\n\n# print(train_data_imputer.shape)\n# print(train_val_imputer.shape)",
      "execution_count": null,
      "outputs": []
    },
    {
      "metadata": {
        "_cell_guid": "60bfdbcf-eeab-479b-ab91-f670cd33910e",
        "_uuid": "28af7f4e96850ed533cd0bbe6ee4440153cc2dbb",
        "trusted": false,
        "collapsed": true
      },
      "cell_type": "code",
      "source": "# print(train_dum.head())\n# print(train_data_imputer.head())",
      "execution_count": null,
      "outputs": []
    },
    {
      "metadata": {
        "_cell_guid": "eeee1693-d17c-46da-b156-c3891e719019",
        "_uuid": "756616b28f07a34d9a31cc62cff5b28a042078bd",
        "trusted": false,
        "collapsed": true
      },
      "cell_type": "code",
      "source": "# train_dum_copy = train_dum.copy()\ntrain_dum_t = pd.concat([train_data_imputer, train_dum.reset_index()], axis=1)\nval_dum_t = pd.concat([val_data_imputer, val_dum.reset_index()], axis=1)",
      "execution_count": null,
      "outputs": []
    },
    {
      "metadata": {
        "_cell_guid": "6a7e7e03-183a-40be-9519-32b8c8ed6cf2",
        "_uuid": "21d77a65f9f84cebf1830fb2dcbbf80ac95735c6",
        "collapsed": true,
        "trusted": false
      },
      "cell_type": "code",
      "source": "# print(train_dum_copy.head())\n# print(train_data_imputer.head())\n# print(train_dum_t.shape)",
      "execution_count": null,
      "outputs": []
    },
    {
      "metadata": {
        "_cell_guid": "94f931f4-9a9b-428c-a405-08b2b3c3c904",
        "_uuid": "cb061f4ec82970ffc7a6f1c698a7dd28d355fdc1",
        "trusted": false,
        "collapsed": true
      },
      "cell_type": "code",
      "source": "from xgboost import XGBRegressor\n\ntest_data_org = pd.read_csv('../input/test.csv')\ntest_data = test_data_org.drop(['Id'], axis=1)\ntest_data = pd.get_dummies(test_data)\n\n\n\n# print(train_dum.head())\nmy_model = XGBRegressor(n_estimators=1000, learning_rate=0.05)\n# my_model.fit(train_dum_t, train_y, early_stopping_rounds=300, eval_set=[(val_dum_t, val_y)], verbose=True)\n\n# my_model.fit(X, y, verbose=True)",
      "execution_count": null,
      "outputs": []
    },
    {
      "metadata": {
        "_cell_guid": "4e36b759-bf64-42da-9db9-50480d8c5c87",
        "_uuid": "99e0cb7faab53dd0a9c1d29efc918c392b75e793",
        "trusted": false,
        "collapsed": true
      },
      "cell_type": "code",
      "source": "from sklearn.metrics import mean_absolute_error\npreds = my_model.predict(val_dum_t)\n# print(preds.size)\nmae = mean_absolute_error(preds, val_y)\nprint(\"mae: %f\" % (mae))",
      "execution_count": null,
      "outputs": []
    },
    {
      "metadata": {
        "_cell_guid": "92aa5939-d986-42eb-bdb7-88b9f321259c",
        "_uuid": "875cc656dfe5dde7f3f4731c622a1edf1eaa56c4",
        "trusted": false,
        "collapsed": true
      },
      "cell_type": "code",
      "source": "X_train_org = pd.read_csv('../input/train.csv')\nX_test_org = pd.read_csv('../input/test.csv')\n\ncols = (missing_data[missing_data['Total'] > 1]).index\nX_train = X_train_org.drop(cols, 1)\nX_train = X_train.drop(X_train.loc[X_train['Electrical'].isnull()].index)\nX_train = X_train.drop(X_train[X_train['Id'] == 1299].index)\nX_train = X_train.drop(X_train[X_train['Id'] == 524].index)\n\nX_test = X_test_org.drop(cols, 1)\n\nX_train_tg = np.log(X_train.SalePrice)\nX_train_num = X_train.drop(['SalePrice', 'Id'], axis=1).select_dtypes(exclude=['object'])\nX_train_num['GrLivArea'] = np.log(X_train_num['GrLivArea'])\nX_train_num['HasBsmt'] = pd.Series(len(X_train_num['TotalBsmtSF']), index=X_train_num.index)\nX_train_num['HasBsmt'] = 0 \nX_train_num.loc[X_train_num['TotalBsmtSF']>0,'HasBsmt'] = 1\nX_train_num.loc[X_train_num['HasBsmt']==1,'TotalBsmtSF'] = np.log(X_train_num['TotalBsmtSF'])\nX_train_obj = X_train.drop(['SalePrice', 'Id'], axis=1).select_dtypes(include=['object'])\n\n\nX_test_num = X_test.drop(['Id'], axis=1).select_dtypes(exclude=['object'])\nX_test_num['GrLivArea'] = np.log(X_test_num['GrLivArea'])\nX_test_num['HasBsmt'] = pd.Series(len(X_test_num['TotalBsmtSF']), index=X_test_num.index)\nX_test_num['HasBsmt'] = 0 \nX_test_num.loc[X_test_num['TotalBsmtSF']>0,'HasBsmt'] = 1\nX_test_num.loc[X_test_num['HasBsmt']==1,'TotalBsmtSF'] = np.log(X_test_num['TotalBsmtSF'])\nX_test_obj = X_test.drop(['Id'], axis=1).select_dtypes(include=['object'])\n\nX_train_dum = pd.get_dummies(X_train_obj)\nX_test_dum = pd.get_dummies(X_test_obj)\nX_train_dum, X_test_dum = X_train_dum.align(X_test_dum, join='left', axis=1)\nX_test_dum.fillna(0, inplace=True)\n\nmy_imputer = Imputer()\nX_train_ipt = my_imputer.fit_transform(X_train_num)\nX_test_ipt = my_imputer.transform(X_test_num)\n\nX_train_ipt = pd.DataFrame(X_train_ipt, columns=X_train_num.columns)\nX_test_ipt = pd.DataFrame(X_test_ipt, columns=X_test_num.columns)\n\nX_train = pd.concat([X_train_ipt, X_train_dum.reset_index()], axis=1)\nX_test = pd.concat([X_test_ipt, X_test_dum.reset_index()], axis=1)\n\nmy_model = XGBRegressor(colsample_bytree=0.4603, gamma=0.0468, \n                             learning_rate=0.05, max_depth=3, \n                             min_child_weight=1.7817, n_estimators=2200,\n                             reg_alpha=0.4640, reg_lambda=0.8571,\n                             subsample=0.5213, silent=1,\n                             random_state =7, nthread = -1)\nmy_model.fit(X_train, X_train_tg, verbose=True)\n\nmy_preds = my_model.predict(X_test)",
      "execution_count": null,
      "outputs": []
    },
    {
      "metadata": {
        "_cell_guid": "e17f2a91-6e08-4f4b-a98c-7e696ccd1d95",
        "_uuid": "a80cbf6b03fa6473671162f773d9581711e7518a",
        "trusted": false,
        "collapsed": true
      },
      "cell_type": "code",
      "source": "my_preds = np.exp(my_preds)\n# print(np.exp(my_preds))",
      "execution_count": null,
      "outputs": []
    },
    {
      "metadata": {
        "_cell_guid": "7c92a2f1-14cf-4bff-a558-0f851de45f73",
        "_uuid": "7e36470a7f09a9512a191e62581386852abad06d",
        "trusted": false,
        "collapsed": true
      },
      "cell_type": "code",
      "source": "print(my_preds)",
      "execution_count": null,
      "outputs": []
    },
    {
      "metadata": {
        "_cell_guid": "1bb98b81-e5ca-4561-bb27-4a9d98206328",
        "_uuid": "ee1fa7bb387eba17d29027983ed3ca0ef9f31b07",
        "collapsed": true,
        "trusted": false
      },
      "cell_type": "code",
      "source": "submission6 = pd.DataFrame({'Id': X_test_org.Id, 'SalePrice': my_preds})\nsubmission6.to_csv('submission6.csv', index=False)",
      "execution_count": null,
      "outputs": []
    },
    {
      "metadata": {
        "_cell_guid": "6ecee48b-23ad-42c7-bf5d-08f77b95ceb8",
        "_uuid": "aaafa2e4f385109d847fbcfafcf4ad9fc6aa04b2",
        "collapsed": true,
        "trusted": false
      },
      "cell_type": "code",
      "source": "",
      "execution_count": null,
      "outputs": []
    },
    {
      "metadata": {
        "_cell_guid": "5ec4e946-3a97-443c-92b1-6d3b2beb47ea",
        "_uuid": "6dc33fce7c844b6392dd83deaadda2b1ca3d12d0",
        "collapsed": true,
        "trusted": false
      },
      "cell_type": "code",
      "source": "",
      "execution_count": null,
      "outputs": []
    }
  ],
  "metadata": {
    "language_info": {
      "pygments_lexer": "ipython3",
      "mimetype": "text/x-python",
      "file_extension": ".py",
      "codemirror_mode": {
        "name": "ipython",
        "version": 3
      },
      "name": "python",
      "nbconvert_exporter": "python",
      "version": "3.6.4"
    },
    "kernelspec": {
      "display_name": "Python 3",
      "language": "python",
      "name": "python3"
    }
  },
  "nbformat": 4,
  "nbformat_minor": 1
}